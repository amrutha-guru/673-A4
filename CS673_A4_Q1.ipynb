{
 "cells": [
  {
   "cell_type": "code",
   "execution_count": 4,
   "id": "d0d4fda3",
   "metadata": {},
   "outputs": [
    {
     "name": "stdout",
     "output_type": "stream",
     "text": [
      "Enter city name: boston\n",
      "Weather Information:\n",
      "Temperature: 3.24\n",
      "Feels Like: -0.38\n",
      "Description: light intensity drizzle\n"
     ]
    }
   ],
   "source": [
    "import requests\n",
    "\n",
    "#Passes location entered by user and api_key as arguments and returns weather information on that location\n",
    "def get_weather(city_name, api_key):\n",
    "    url = f\"http://api.openweathermap.org/data/2.5/weather?q={city_name}&appid={api_key}&units=metric\"\n",
    "    #Fetches data from OpenWeatherMap API \n",
    "    response = requests.get(url)\n",
    "    #Stores response in data variable\n",
    "    data = response.json()\n",
    "    #Status = 200 means success and weather info is returned, if not error message is displayed\n",
    "    if response.status_code == 200:\n",
    "        weather_info = {\n",
    "            \"Temperature\": data['main']['temp'],\n",
    "            \"Feels Like\": data['main']['feels_like'],\n",
    "            \"Description\": data['weather'][0]['description']\n",
    "        }\n",
    "        return weather_info\n",
    "    else:\n",
    "        print(f\"Error fetching weather data: {data['message']}\")\n",
    "        return None\n",
    "\n",
    "def main():\n",
    "    #User prompted to enter city name \n",
    "    city_name = input(\"Enter city name: \")\n",
    "    #Using API key from the OpenWeatherMap API Website\n",
    "    api_key = \"e6c7ddc5b07bd19ea56b29df9c485f45'\n",
    "    #Function called with input parameters\n",
    "    weather_info = get_weather(city_name, api_key)\n",
    "    if weather_info:\n",
    "        print(\"Weather Information:\")\n",
    "        for key, value in weather_info.items():\n",
    "            print(f\"{key}: {value}\")\n",
    "\n",
    "if __name__ == \"__main__\":\n",
    "    main()\n"
   ]
  },
  {
   "cell_type": "markdown",
   "id": "6eb297dd",
   "metadata": {},
   "source": [
    "First we import the request library so we can get http requests from the internet. I then went to the OpenWeatherMap API Website and got a personal API key which I'm using here. Then I create the get_weather() function which passes the location or city name as an argument and we store that location with the API key as part of the url name in the url variable. We then get the requestand store it in the data variable, and if the status code is 200 meaning success, then the weather data is returned, and if not an error message is returned. Next we define the main() function where we have the location name (which user wpuld be prompted to fill), and the api_key value, after which the get_weather() function is called which returns the weather information ideally, and here the temperatures are printed and description in the form of a few words, else an error message. Finally the script is run, through the final lines of 'main'."
   ]
  },
  {
   "cell_type": "markdown",
   "id": "1eedf344",
   "metadata": {},
   "source": [
    "#HTML code which would be saved as a file of .html format\n",
    "\n",
    "<!DOCTYPE html>\n",
    "<html lang=\"en\">\n",
    "<head>\n",
    "    <meta charset=\"UTF-8\">\n",
    "    <meta name=\"viewport\" content=\"width=device-width, initial-scale=1.0\">\n",
    "    <title>Weather Information</title>\n",
    "    <style>\n",
    "        body {\n",
    "            font-family: Arial, sans-serif;\n",
    "        }\n",
    "        #weather-info {\n",
    "            margin: 20px;\n",
    "        }\n",
    "    </style>\n",
    "</head>\n",
    "<body>\n",
    "    <div id=\"weather-info\">\n",
    "        #heading on the webpage\n",
    "        <h2>Weather Information</h2>\n",
    "        <p id=\"temperature\"></p>\n",
    "        <p id=\"feels-like\"></p>\n",
    "        <p id=\"description\"></p>\n",
    "    </div>\n",
    "\n",
    "    <script>\n",
    "        function getWeather(cityName) {\n",
    "            fetch(`http://api.openweathermap.org/data/2.5/weather?q=${cityName}&appid=YOUR_API_KEY&units=metric`)\n",
    "            .then(response => response.json())\n",
    "            .then(data => {\n",
    "                #the following fields are printed with the innerText headings and then the information \n",
    "                #extracted using the getWeather function \n",
    "                document.getElementById('temperature').innerText = `Temperature: ${data.main.temp} °C`;\n",
    "                document.getElementById('feels-like').innerText = `Feels Like: ${data.main.feels_like} °C`;\n",
    "                document.getElementById('description').innerText = `Description: ${data.weather[0].description}`;\n",
    "            })\n",
    "            .catch(error => console.log('Error fetching weather data:', error));\n",
    "        }\n",
    "        #when loading the function user is prompted with the box - enter city name\n",
    "        window.onload = function() {\n",
    "            var cityName = prompt(\"Enter city name:\");\n",
    "            getWeather(cityName);\n",
    "        };\n",
    "    </script>\n",
    "</body>\n",
    "</html>\n"
   ]
  }
 ],
 "metadata": {
  "kernelspec": {
   "display_name": "Python 3 (ipykernel)",
   "language": "python",
   "name": "python3"
  },
  "language_info": {
   "codemirror_mode": {
    "name": "ipython",
    "version": 3
   },
   "file_extension": ".py",
   "mimetype": "text/x-python",
   "name": "python",
   "nbconvert_exporter": "python",
   "pygments_lexer": "ipython3",
   "version": "3.11.5"
  }
 },
 "nbformat": 4,
 "nbformat_minor": 5
}
