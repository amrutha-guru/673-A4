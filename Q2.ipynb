{
 "cells": [
  {
   "cell_type": "code",
   "execution_count": null,
   "id": "b4a9be8d",
   "metadata": {},
   "outputs": [],
   "source": [
    "import requests\n",
    "\n",
    "#Function to fetch a random quote\n",
    "def fetch_random_quote():\n",
    "    #Defining the URL\n",
    "    api_url = 'https://api.api-ninjas.com/v1/quotes'\n",
    "    #Fetching response from URL using personal API key\n",
    "    response = requests.get(api_url, headers={'X-Api-Key': '8i940f+pj/VqSqIuinVQJA==W282nNYyguxB6M8W'})\n",
    "\n",
    "    #If response is okay meaning status 200 then quotes are stored in same variable and first quote is stored in \n",
    "    #random_quote assuming it is random, then printed, else error message printed with response code and text \n",
    "    if response.status_code == requests.codes.ok:\n",
    "        quotes = response.json()\n",
    "        random_quote = quotes[0]['quote'] \n",
    "        print(\"Random Quote:\")\n",
    "        print(random_quote)\n",
    "    else:\n",
    "        print(\"Error:\", response.status_code, response.text)\n",
    "\n",
    "#Function to fetch quote based on keyword\n",
    "def search_quotes(query):\n",
    "    #Defining the URL\n",
    "    api_url = f'https://api.api-ninjas.com/v1/quotes?keyword={query}'\n",
    "    #Fetching response from URL using personal API key\n",
    "    response = requests.get(api_url, headers={'X-Api-Key': '8i940f+pj/VqSqIuinVQJA==W282nNYyguxB6M8W'})\n",
    "\n",
    "    #If response is okay meaning status 200 then quote is extracted from json response and printed, if not\n",
    "    #error message is printed\n",
    "    if response.status_code == requests.codes.ok:\n",
    "        quotes = response.json()\n",
    "        if quotes:\n",
    "            print(\"Quotes:\")\n",
    "            for quote in quotes:\n",
    "                print(quote['quote'])\n",
    "        else:\n",
    "            print(\"No quote found\")\n",
    "    else:\n",
    "        print(\"Error:\", response.status_code, response.text)\n",
    "\n",
    "#This block prompts user to enter random or search \n",
    "if __name__ == \"__main__\":\n",
    "    choice = input(\"Enter 'random' to fetch a random quote or 'search' to search for quotes: \")\n",
    "    #If user chooses random then that function is called\n",
    "    if choice == 'random':\n",
    "        fetch_random_quote()\n",
    "    elif choice == 'search':\n",
    "        #If user chooses search then user is prompted to enter keyword and then search function is called\n",
    "        search = input(\"Enter keyword to search for quotes: \")\n",
    "        search_quotes(search)\n",
    "    else:\n",
    "        print(\"Invalid choice. Please enter 'random' or 'search'.\")\n"
   ]
  }
 ],
 "metadata": {
  "kernelspec": {
   "display_name": "Python 3 (ipykernel)",
   "language": "python",
   "name": "python3"
  },
  "language_info": {
   "codemirror_mode": {
    "name": "ipython",
    "version": 3
   },
   "file_extension": ".py",
   "mimetype": "text/x-python",
   "name": "python",
   "nbconvert_exporter": "python",
   "pygments_lexer": "ipython3",
   "version": "3.11.5"
  }
 },
 "nbformat": 4,
 "nbformat_minor": 5
}
