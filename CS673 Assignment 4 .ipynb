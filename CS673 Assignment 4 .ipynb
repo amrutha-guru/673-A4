{
 "cells": [
  {
   "cell_type": "code",
   "execution_count": 4,
   "id": "0bcc0ee7",
   "metadata": {},
   "outputs": [
    {
     "name": "stdout",
     "output_type": "stream",
     "text": [
      "Enter city name: boston\n",
      "Location: boston\n",
      "Temperature: 3.26°C\n",
      "Feels like: -1.60°C\n",
      "Description: light intensity drizzle\n"
     ]
    }
   ],
   "source": [
    "#Q1 Weather program\n",
    "\n",
    "import requests\n",
    "\n",
    "#Using API key from the OpenWeatherMap API Website\n",
    "API_KEY = \"e6c7ddc5b07bd19ea56b29df9c485f45\"\n",
    "\n",
    "def get_weather(location):\n",
    "  #Passes location entered by user as argument and returns weather information on that location\n",
    "  url = f\"https://api.openweathermap.org/data/2.5/weather?q={location}&appid={API_KEY}\"\n",
    "  #Fetches data from OpenWeatherMap API \n",
    "  response = requests.get(url)\n",
    "  #Status = 200 means success and weather info is returned, if not error message is displayed\n",
    "  if response.status_code == 200:\n",
    "    return response.json()\n",
    "  else:\n",
    "    print(f\"Error: {response.status_code}\")\n",
    "    return None\n",
    "\n",
    "def main():\n",
    "  #User prompted to enter city name \n",
    "  location = input(\"Enter city name: \")\n",
    "  weather_data = get_weather(location)\n",
    "  #Showing temperature information in Celcius and description as a few words\n",
    "  if weather_data:\n",
    "    temperature = weather_data[\"main\"][\"temp\"] - 273.15\n",
    "    feels_like = weather_data[\"main\"][\"feels_like\"] - 273.15\n",
    "    description = weather_data[\"weather\"][0][\"description\"]\n",
    "    #Printing the results that were extracted above\n",
    "    print(f\"Location: {location}\")\n",
    "    print(f\"Temperature: {temperature:.2f}°C\")\n",
    "    print(f\"Feels like: {feels_like:.2f}°C\")\n",
    "    print(f\"Description: {description}\")\n",
    "  else:\n",
    "    print(\"Error retrieving weather data.\")\n",
    "\n",
    "if __name__ == \"__main__\":\n",
    "  main()\n"
   ]
  }
 ],
 "metadata": {
  "kernelspec": {
   "display_name": "Python 3 (ipykernel)",
   "language": "python",
   "name": "python3"
  },
  "language_info": {
   "codemirror_mode": {
    "name": "ipython",
    "version": 3
   },
   "file_extension": ".py",
   "mimetype": "text/x-python",
   "name": "python",
   "nbconvert_exporter": "python",
   "pygments_lexer": "ipython3",
   "version": "3.11.5"
  }
 },
 "nbformat": 4,
 "nbformat_minor": 5
}
